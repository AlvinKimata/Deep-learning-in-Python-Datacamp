{
  "cells": [
    {
      "cell_type": "markdown",
      "metadata": {
        "id": "view-in-github",
        "colab_type": "text"
      },
      "source": [
        "<a href=\"https://colab.research.google.com/github/AlvinKimata/Deep-learning-in-Python-Datacamp-skill-track/blob/main/3_4_Training_convolutional_neural_networks.ipynb\" target=\"_parent\"><img src=\"https://colab.research.google.com/assets/colab-badge.svg\" alt=\"Open In Colab\"/></a>"
      ]
    },
    {
      "cell_type": "code",
      "execution_count": 1,
      "id": "3f1718cc-2674-43db-9539-b25ff42748c6",
      "metadata": {
        "id": "3f1718cc-2674-43db-9539-b25ff42748c6"
      },
      "outputs": [],
      "source": [
        "import torch\n",
        "import torchvision\n",
        "import torchvision.transforms as transforms\n",
        "import torch.nn as nn\n",
        "import torch.nn.functional as F\n",
        "import torch.optim as optim"
      ]
    },
    {
      "cell_type": "markdown",
      "id": "b9130e43-8d50-4809-a0c1-1fcadc2a7e85",
      "metadata": {
        "id": "b9130e43-8d50-4809-a0c1-1fcadc2a7e85"
      },
      "source": [
        "## Create the train and test loaders."
      ]
    },
    {
      "cell_type": "code",
      "execution_count": 2,
      "id": "aceef1ff-589e-4d7f-953d-232a3717efcf",
      "metadata": {
        "colab": {
          "base_uri": "https://localhost:8080/",
          "height": 106,
          "referenced_widgets": [
            "6ce698fd576d4003a013f146ed8a7c11",
            "05436b6686484e40ab22a0a18dea44a9",
            "e19d9dde76134386a502aa2b3ca5c1d9",
            "b36813e93cfe4d0e9bef4f76e18daff7",
            "a52f340d9e9049a180c1e815aba12802",
            "8f966c308b2e47cdbb9f8e6b77429e47",
            "8ffe16b562b0409f9a07e83a2e4a1e00",
            "23e1801bdeb746078a60d4c14fc37630",
            "735aed87f1114e7db0b62b7011637b1d",
            "4ddbacb3768f46b793b050a3ae706e03",
            "4a283140fcaf44e6b5d29773c32c68d0"
          ]
        },
        "id": "aceef1ff-589e-4d7f-953d-232a3717efcf",
        "outputId": "217590da-97b1-429c-b28f-4ac7876ca850"
      },
      "outputs": [
        {
          "output_type": "stream",
          "name": "stdout",
          "text": [
            "Downloading https://www.cs.toronto.edu/~kriz/cifar-10-python.tar.gz to ./data/cifar-10-python.tar.gz\n"
          ]
        },
        {
          "output_type": "display_data",
          "data": {
            "text/plain": [
              "  0%|          | 0/170498071 [00:00<?, ?it/s]"
            ],
            "application/vnd.jupyter.widget-view+json": {
              "version_major": 2,
              "version_minor": 0,
              "model_id": "6ce698fd576d4003a013f146ed8a7c11"
            }
          },
          "metadata": {}
        },
        {
          "output_type": "stream",
          "name": "stdout",
          "text": [
            "Extracting ./data/cifar-10-python.tar.gz to ./data\n"
          ]
        }
      ],
      "source": [
        "transform = transforms.Compose(\n",
        "    [transforms.ToTensor(), \n",
        "     transforms.Normalize((0.5, 0.5, 0.5), (0.5, 0.5, 0.5))]\n",
        ")\n",
        "\n",
        "trainset = torchvision.datasets.CIFAR10(root = './data', train = True, \n",
        "                                        download = True, transform = transform)\n",
        "\n",
        "trainloader = torch.utils.data.DataLoader(trainset, batch_size = 128, \n",
        "                                          shuffle = True, num_workers = 2)"
      ]
    },
    {
      "cell_type": "code",
      "execution_count": 3,
      "id": "8b7e637c-ffff-43db-838b-7042c674cfb4",
      "metadata": {
        "colab": {
          "base_uri": "https://localhost:8080/"
        },
        "id": "8b7e637c-ffff-43db-838b-7042c674cfb4",
        "outputId": "2db71fd0-75ab-4506-f293-cc946f59d4ee"
      },
      "outputs": [
        {
          "output_type": "stream",
          "name": "stdout",
          "text": [
            "Files already downloaded and verified\n"
          ]
        }
      ],
      "source": [
        "testset = torchvision.datasets.CIFAR10(root = './data', train = False, \n",
        "                                      download = True, transform = transform)\n",
        "\n",
        "testloader = torch.utils.data.DataLoader(testset, batch_size = 128, \n",
        "                                         shuffle = False, num_workers = 2)"
      ]
    },
    {
      "cell_type": "markdown",
      "id": "c6226c91-9506-41af-ba4f-1a68b33f735e",
      "metadata": {
        "id": "c6226c91-9506-41af-ba4f-1a68b33f735e"
      },
      "source": [
        "## Building the CNN."
      ]
    },
    {
      "cell_type": "code",
      "execution_count": 4,
      "id": "95658247-8dab-46a6-9759-7bf55b1c8379",
      "metadata": {
        "id": "95658247-8dab-46a6-9759-7bf55b1c8379"
      },
      "outputs": [],
      "source": [
        "class Net(nn.Module):\n",
        "    def __init__(self, num_classes = 10):\n",
        "        super(Net, self).__init__()\n",
        "        self.conv1 = nn.Conv2d(in_channels = 3, out_channels = 32, kernel_size = 3, padding = 1)\n",
        "        self.conv2 = nn.Conv2d(in_channels = 32, out_channels = 64, kernel_size = 3, padding = 1)\n",
        "        self.conv3 = nn.Conv2d(in_channels = 64, out_channels = 128, kernel_size = 3, padding = 1)\n",
        "        \n",
        "        self.pool = nn.MaxPool2d(2, 2)\n",
        "        self.fc = nn.Linear(128 * 4 * 4, num_classes) #(number of units from the last layer, 4 * 4 is height and width of image)\n",
        "        \n",
        "    def forward(self, x):\n",
        "        x = self.pool(F.relu(self.conv1(x)))\n",
        "        x = self.pool(F.relu(self.conv2(x)))\n",
        "        x = self.pool(F.relu(self.conv3(x)))\n",
        "        \n",
        "        x = x.view(-1, 128 * 4 * 4) #Squeeze all dimensions in one dimension (Flattening)\n",
        "        \n",
        "        return self.fc(x)\n",
        "        "
      ]
    },
    {
      "cell_type": "markdown",
      "id": "fea51912-fc66-4e3e-840f-772f1a75f533",
      "metadata": {
        "id": "fea51912-fc66-4e3e-840f-772f1a75f533"
      },
      "source": [
        "## Instantiate optimizer and loss function."
      ]
    },
    {
      "cell_type": "code",
      "execution_count": 5,
      "id": "4283b523-e752-47e1-9fe0-ce11f4882aca",
      "metadata": {
        "id": "4283b523-e752-47e1-9fe0-ce11f4882aca"
      },
      "outputs": [],
      "source": [
        "net = Net()\n",
        "criterion = nn.CrossEntropyLoss()\n",
        "optimizer = optim.Adam(net.parameters(), lr = 3e-4)"
      ]
    },
    {
      "cell_type": "markdown",
      "id": "e3bdb1e3-e49a-462c-af28-f915d74870bb",
      "metadata": {
        "id": "e3bdb1e3-e49a-462c-af28-f915d74870bb"
      },
      "source": [
        "## Train the CNN."
      ]
    },
    {
      "cell_type": "code",
      "execution_count": 6,
      "id": "c5b4000b-a865-4fce-aaef-13a40df1f2f6",
      "metadata": {
        "colab": {
          "base_uri": "https://localhost:8080/"
        },
        "id": "c5b4000b-a865-4fce-aaef-13a40df1f2f6",
        "outputId": "4767d6fb-a9f4-4fa6-9840-6003f85776ee"
      },
      "outputs": [
        {
          "output_type": "stream",
          "name": "stdout",
          "text": [
            "Finished training\n"
          ]
        }
      ],
      "source": [
        "#Train for 10 epochs.\n",
        "for epoch in range(10):\n",
        "    for i, data in enumerate(trainloader, 0):\n",
        "        #Fetch the inputs.\n",
        "        inputs, labels = data\n",
        "        \n",
        "        #Zero the parameter gradients.\n",
        "        optimizer.zero_grad()\n",
        "        \n",
        "        #Forward + backward + optimize.\n",
        "        outputs = net(inputs)\n",
        "        loss = criterion(outputs, labels)\n",
        "        \n",
        "        #Compute gradients.\n",
        "        loss.backward()\n",
        "        \n",
        "        #Update weights.\n",
        "        optimizer.step()\n",
        "        \n",
        "print('Finished training')"
      ]
    },
    {
      "cell_type": "markdown",
      "source": [
        "## Evaluating results."
      ],
      "metadata": {
        "id": "jWdNYqhXGxgA"
      },
      "id": "jWdNYqhXGxgA"
    },
    {
      "cell_type": "code",
      "execution_count": 7,
      "id": "0d5d5ba7-5a22-45fc-bfb2-a2b1d65e4883",
      "metadata": {
        "colab": {
          "base_uri": "https://localhost:8080/"
        },
        "id": "0d5d5ba7-5a22-45fc-bfb2-a2b1d65e4883",
        "outputId": "f2096b48-6585-4e84-a434-5be7759d0294"
      },
      "outputs": [
        {
          "output_type": "stream",
          "name": "stdout",
          "text": [
            "The test set accuracy of the network is: 70 %\n"
          ]
        }
      ],
      "source": [
        "correct, total = 0, 0\n",
        "predictions = []\n",
        "\n",
        "#Put the net in evaluation mode.\n",
        "net.eval()\n",
        "\n",
        "for i, data in enumerate(testloader, 0):\n",
        "  inputs, labels = data\n",
        "  outputs = net(inputs)\n",
        "\n",
        "  _, predicted = torch.max(outputs.data, 1)\n",
        "  predictions.append(outputs)\n",
        "\n",
        "  total += labels.size(0)\n",
        "  correct += (predicted == labels).sum().item()\n",
        "\n",
        "\n",
        "print('The test set accuracy of the network is: %d %%' %(100 * correct / total))"
      ]
    },
    {
      "cell_type": "code",
      "source": [],
      "metadata": {
        "id": "5ay63mMtL5Um"
      },
      "id": "5ay63mMtL5Um",
      "execution_count": null,
      "outputs": []
    }
  ],
  "metadata": {
    "kernelspec": {
      "display_name": "Python 3 (ipykernel)",
      "language": "python",
      "name": "python3"
    },
    "language_info": {
      "codemirror_mode": {
        "name": "ipython",
        "version": 3
      },
      "file_extension": ".py",
      "mimetype": "text/x-python",
      "name": "python",
      "nbconvert_exporter": "python",
      "pygments_lexer": "ipython3",
      "version": "3.9.12"
    },
    "colab": {
      "provenance": [],
      "collapsed_sections": [],
      "include_colab_link": true
    },
    "accelerator": "GPU",
    "gpuClass": "standard",
    "widgets": {
      "application/vnd.jupyter.widget-state+json": {
        "6ce698fd576d4003a013f146ed8a7c11": {
          "model_module": "@jupyter-widgets/controls",
          "model_name": "HBoxModel",
          "model_module_version": "1.5.0",
          "state": {
            "_dom_classes": [],
            "_model_module": "@jupyter-widgets/controls",
            "_model_module_version": "1.5.0",
            "_model_name": "HBoxModel",
            "_view_count": null,
            "_view_module": "@jupyter-widgets/controls",
            "_view_module_version": "1.5.0",
            "_view_name": "HBoxView",
            "box_style": "",
            "children": [
              "IPY_MODEL_05436b6686484e40ab22a0a18dea44a9",
              "IPY_MODEL_e19d9dde76134386a502aa2b3ca5c1d9",
              "IPY_MODEL_b36813e93cfe4d0e9bef4f76e18daff7"
            ],
            "layout": "IPY_MODEL_a52f340d9e9049a180c1e815aba12802"
          }
        },
        "05436b6686484e40ab22a0a18dea44a9": {
          "model_module": "@jupyter-widgets/controls",
          "model_name": "HTMLModel",
          "model_module_version": "1.5.0",
          "state": {
            "_dom_classes": [],
            "_model_module": "@jupyter-widgets/controls",
            "_model_module_version": "1.5.0",
            "_model_name": "HTMLModel",
            "_view_count": null,
            "_view_module": "@jupyter-widgets/controls",
            "_view_module_version": "1.5.0",
            "_view_name": "HTMLView",
            "description": "",
            "description_tooltip": null,
            "layout": "IPY_MODEL_8f966c308b2e47cdbb9f8e6b77429e47",
            "placeholder": "​",
            "style": "IPY_MODEL_8ffe16b562b0409f9a07e83a2e4a1e00",
            "value": "100%"
          }
        },
        "e19d9dde76134386a502aa2b3ca5c1d9": {
          "model_module": "@jupyter-widgets/controls",
          "model_name": "FloatProgressModel",
          "model_module_version": "1.5.0",
          "state": {
            "_dom_classes": [],
            "_model_module": "@jupyter-widgets/controls",
            "_model_module_version": "1.5.0",
            "_model_name": "FloatProgressModel",
            "_view_count": null,
            "_view_module": "@jupyter-widgets/controls",
            "_view_module_version": "1.5.0",
            "_view_name": "ProgressView",
            "bar_style": "success",
            "description": "",
            "description_tooltip": null,
            "layout": "IPY_MODEL_23e1801bdeb746078a60d4c14fc37630",
            "max": 170498071,
            "min": 0,
            "orientation": "horizontal",
            "style": "IPY_MODEL_735aed87f1114e7db0b62b7011637b1d",
            "value": 170498071
          }
        },
        "b36813e93cfe4d0e9bef4f76e18daff7": {
          "model_module": "@jupyter-widgets/controls",
          "model_name": "HTMLModel",
          "model_module_version": "1.5.0",
          "state": {
            "_dom_classes": [],
            "_model_module": "@jupyter-widgets/controls",
            "_model_module_version": "1.5.0",
            "_model_name": "HTMLModel",
            "_view_count": null,
            "_view_module": "@jupyter-widgets/controls",
            "_view_module_version": "1.5.0",
            "_view_name": "HTMLView",
            "description": "",
            "description_tooltip": null,
            "layout": "IPY_MODEL_4ddbacb3768f46b793b050a3ae706e03",
            "placeholder": "​",
            "style": "IPY_MODEL_4a283140fcaf44e6b5d29773c32c68d0",
            "value": " 170498071/170498071 [00:13&lt;00:00, 14496048.77it/s]"
          }
        },
        "a52f340d9e9049a180c1e815aba12802": {
          "model_module": "@jupyter-widgets/base",
          "model_name": "LayoutModel",
          "model_module_version": "1.2.0",
          "state": {
            "_model_module": "@jupyter-widgets/base",
            "_model_module_version": "1.2.0",
            "_model_name": "LayoutModel",
            "_view_count": null,
            "_view_module": "@jupyter-widgets/base",
            "_view_module_version": "1.2.0",
            "_view_name": "LayoutView",
            "align_content": null,
            "align_items": null,
            "align_self": null,
            "border": null,
            "bottom": null,
            "display": null,
            "flex": null,
            "flex_flow": null,
            "grid_area": null,
            "grid_auto_columns": null,
            "grid_auto_flow": null,
            "grid_auto_rows": null,
            "grid_column": null,
            "grid_gap": null,
            "grid_row": null,
            "grid_template_areas": null,
            "grid_template_columns": null,
            "grid_template_rows": null,
            "height": null,
            "justify_content": null,
            "justify_items": null,
            "left": null,
            "margin": null,
            "max_height": null,
            "max_width": null,
            "min_height": null,
            "min_width": null,
            "object_fit": null,
            "object_position": null,
            "order": null,
            "overflow": null,
            "overflow_x": null,
            "overflow_y": null,
            "padding": null,
            "right": null,
            "top": null,
            "visibility": null,
            "width": null
          }
        },
        "8f966c308b2e47cdbb9f8e6b77429e47": {
          "model_module": "@jupyter-widgets/base",
          "model_name": "LayoutModel",
          "model_module_version": "1.2.0",
          "state": {
            "_model_module": "@jupyter-widgets/base",
            "_model_module_version": "1.2.0",
            "_model_name": "LayoutModel",
            "_view_count": null,
            "_view_module": "@jupyter-widgets/base",
            "_view_module_version": "1.2.0",
            "_view_name": "LayoutView",
            "align_content": null,
            "align_items": null,
            "align_self": null,
            "border": null,
            "bottom": null,
            "display": null,
            "flex": null,
            "flex_flow": null,
            "grid_area": null,
            "grid_auto_columns": null,
            "grid_auto_flow": null,
            "grid_auto_rows": null,
            "grid_column": null,
            "grid_gap": null,
            "grid_row": null,
            "grid_template_areas": null,
            "grid_template_columns": null,
            "grid_template_rows": null,
            "height": null,
            "justify_content": null,
            "justify_items": null,
            "left": null,
            "margin": null,
            "max_height": null,
            "max_width": null,
            "min_height": null,
            "min_width": null,
            "object_fit": null,
            "object_position": null,
            "order": null,
            "overflow": null,
            "overflow_x": null,
            "overflow_y": null,
            "padding": null,
            "right": null,
            "top": null,
            "visibility": null,
            "width": null
          }
        },
        "8ffe16b562b0409f9a07e83a2e4a1e00": {
          "model_module": "@jupyter-widgets/controls",
          "model_name": "DescriptionStyleModel",
          "model_module_version": "1.5.0",
          "state": {
            "_model_module": "@jupyter-widgets/controls",
            "_model_module_version": "1.5.0",
            "_model_name": "DescriptionStyleModel",
            "_view_count": null,
            "_view_module": "@jupyter-widgets/base",
            "_view_module_version": "1.2.0",
            "_view_name": "StyleView",
            "description_width": ""
          }
        },
        "23e1801bdeb746078a60d4c14fc37630": {
          "model_module": "@jupyter-widgets/base",
          "model_name": "LayoutModel",
          "model_module_version": "1.2.0",
          "state": {
            "_model_module": "@jupyter-widgets/base",
            "_model_module_version": "1.2.0",
            "_model_name": "LayoutModel",
            "_view_count": null,
            "_view_module": "@jupyter-widgets/base",
            "_view_module_version": "1.2.0",
            "_view_name": "LayoutView",
            "align_content": null,
            "align_items": null,
            "align_self": null,
            "border": null,
            "bottom": null,
            "display": null,
            "flex": null,
            "flex_flow": null,
            "grid_area": null,
            "grid_auto_columns": null,
            "grid_auto_flow": null,
            "grid_auto_rows": null,
            "grid_column": null,
            "grid_gap": null,
            "grid_row": null,
            "grid_template_areas": null,
            "grid_template_columns": null,
            "grid_template_rows": null,
            "height": null,
            "justify_content": null,
            "justify_items": null,
            "left": null,
            "margin": null,
            "max_height": null,
            "max_width": null,
            "min_height": null,
            "min_width": null,
            "object_fit": null,
            "object_position": null,
            "order": null,
            "overflow": null,
            "overflow_x": null,
            "overflow_y": null,
            "padding": null,
            "right": null,
            "top": null,
            "visibility": null,
            "width": null
          }
        },
        "735aed87f1114e7db0b62b7011637b1d": {
          "model_module": "@jupyter-widgets/controls",
          "model_name": "ProgressStyleModel",
          "model_module_version": "1.5.0",
          "state": {
            "_model_module": "@jupyter-widgets/controls",
            "_model_module_version": "1.5.0",
            "_model_name": "ProgressStyleModel",
            "_view_count": null,
            "_view_module": "@jupyter-widgets/base",
            "_view_module_version": "1.2.0",
            "_view_name": "StyleView",
            "bar_color": null,
            "description_width": ""
          }
        },
        "4ddbacb3768f46b793b050a3ae706e03": {
          "model_module": "@jupyter-widgets/base",
          "model_name": "LayoutModel",
          "model_module_version": "1.2.0",
          "state": {
            "_model_module": "@jupyter-widgets/base",
            "_model_module_version": "1.2.0",
            "_model_name": "LayoutModel",
            "_view_count": null,
            "_view_module": "@jupyter-widgets/base",
            "_view_module_version": "1.2.0",
            "_view_name": "LayoutView",
            "align_content": null,
            "align_items": null,
            "align_self": null,
            "border": null,
            "bottom": null,
            "display": null,
            "flex": null,
            "flex_flow": null,
            "grid_area": null,
            "grid_auto_columns": null,
            "grid_auto_flow": null,
            "grid_auto_rows": null,
            "grid_column": null,
            "grid_gap": null,
            "grid_row": null,
            "grid_template_areas": null,
            "grid_template_columns": null,
            "grid_template_rows": null,
            "height": null,
            "justify_content": null,
            "justify_items": null,
            "left": null,
            "margin": null,
            "max_height": null,
            "max_width": null,
            "min_height": null,
            "min_width": null,
            "object_fit": null,
            "object_position": null,
            "order": null,
            "overflow": null,
            "overflow_x": null,
            "overflow_y": null,
            "padding": null,
            "right": null,
            "top": null,
            "visibility": null,
            "width": null
          }
        },
        "4a283140fcaf44e6b5d29773c32c68d0": {
          "model_module": "@jupyter-widgets/controls",
          "model_name": "DescriptionStyleModel",
          "model_module_version": "1.5.0",
          "state": {
            "_model_module": "@jupyter-widgets/controls",
            "_model_module_version": "1.5.0",
            "_model_name": "DescriptionStyleModel",
            "_view_count": null,
            "_view_module": "@jupyter-widgets/base",
            "_view_module_version": "1.2.0",
            "_view_name": "StyleView",
            "description_width": ""
          }
        }
      }
    }
  },
  "nbformat": 4,
  "nbformat_minor": 5
}