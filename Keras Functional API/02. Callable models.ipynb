{
 "cells": [
  {
   "cell_type": "code",
   "execution_count": 2,
   "id": "eabbee11-859d-4b9c-b5cf-d2491d2a8b77",
   "metadata": {},
   "outputs": [],
   "source": [
    "#Implmenting a nested model.\n",
    "import tensorflow as tf"
   ]
  },
  {
   "cell_type": "code",
   "execution_count": 3,
   "id": "5cb58c3c-72d0-473f-8a6a-f9ea4e31e9a1",
   "metadata": {},
   "outputs": [],
   "source": [
    "#Define a function that creates a tensorflow model once called.\n",
    "def get_model():\n",
    "    inputs = tf.keras.layers.Input(shape = (128, ))\n",
    "    outputs = tf.keras.layers.Dense(units = 1)(inputs)\n",
    "    \n",
    "    return tf.keras.Model(inputs, outputs)\n"
   ]
  },
  {
   "cell_type": "code",
   "execution_count": 5,
   "id": "c9f929a2-56d4-49d2-9c7b-bb5dee7711cd",
   "metadata": {},
   "outputs": [],
   "source": [
    "model_1 = get_model()\n",
    "model_2 = get_model()\n",
    "model_3 = get_model()\n",
    "model_4 = get_model()"
   ]
  },
  {
   "cell_type": "code",
   "execution_count": 8,
   "id": "a090a98c-520e-4137-9235-56fccd22ae72",
   "metadata": {},
   "outputs": [],
   "source": [
    "inputs = tf.keras.Input(shape = (128, ))\n",
    "y1 = model_1(inputs)\n",
    "y2 = model_2(inputs)\n",
    "y3 = model_3(inputs)\n",
    "y4 = model_4(inputs)\n",
    "\n",
    "outputs = tf.keras.layers.average([y1, y2, y3, y4])\n",
    "ensemble_model = tf.keras.Model(inputs = inputs, outputs = outputs)"
   ]
  },
  {
   "cell_type": "code",
   "execution_count": 9,
   "id": "9eb5e664-1b4f-4ad7-97b0-01f170c577cf",
   "metadata": {},
   "outputs": [
    {
     "name": "stdout",
     "output_type": "stream",
     "text": [
      "Model: \"model_8\"\n",
      "__________________________________________________________________________________________________\n",
      " Layer (type)                   Output Shape         Param #     Connected to                     \n",
      "==================================================================================================\n",
      " input_11 (InputLayer)          [(None, 128)]        0           []                               \n",
      "                                                                                                  \n",
      " model_4 (Functional)           (None, 1)            129         ['input_11[0][0]']               \n",
      "                                                                                                  \n",
      " model_5 (Functional)           (None, 1)            129         ['input_11[0][0]']               \n",
      "                                                                                                  \n",
      " model_6 (Functional)           (None, 1)            129         ['input_11[0][0]']               \n",
      "                                                                                                  \n",
      " model_7 (Functional)           (None, 1)            129         ['input_11[0][0]']               \n",
      "                                                                                                  \n",
      " average (Average)              (None, 1)            0           ['model_4[1][0]',                \n",
      "                                                                  'model_5[1][0]',                \n",
      "                                                                  'model_6[1][0]',                \n",
      "                                                                  'model_7[0][0]']                \n",
      "                                                                                                  \n",
      "==================================================================================================\n",
      "Total params: 516\n",
      "Trainable params: 516\n",
      "Non-trainable params: 0\n",
      "__________________________________________________________________________________________________\n"
     ]
    }
   ],
   "source": [
    "ensemble_model.summary()"
   ]
  },
  {
   "cell_type": "code",
   "execution_count": 10,
   "id": "ef30becc-dcf9-42a6-858a-4075f0d390b6",
   "metadata": {},
   "outputs": [],
   "source": [
    "from tensorflow.keras.utils import plot_model\n"
   ]
  },
  {
   "cell_type": "code",
   "execution_count": 11,
   "id": "39dd28d9-b3b6-4a7a-b4ec-710fefdec1b0",
   "metadata": {},
   "outputs": [
    {
     "name": "stdout",
     "output_type": "stream",
     "text": [
      "('You must install pydot (`pip install pydot`) and install graphviz (see instructions at https://graphviz.gitlab.io/download/) ', 'for plot_model/model_to_dot to work.')\n"
     ]
    }
   ],
   "source": [
    "plot_model(ensemble_model)"
   ]
  },
  {
   "cell_type": "code",
   "execution_count": null,
   "id": "eac2b779-40c3-4fab-85f5-86ffb55932a5",
   "metadata": {},
   "outputs": [],
   "source": []
  }
 ],
 "metadata": {
  "kernelspec": {
   "display_name": "Python 3 (ipykernel)",
   "language": "python",
   "name": "python3"
  },
  "language_info": {
   "codemirror_mode": {
    "name": "ipython",
    "version": 3
   },
   "file_extension": ".py",
   "mimetype": "text/x-python",
   "name": "python",
   "nbconvert_exporter": "python",
   "pygments_lexer": "ipython3",
   "version": "3.9.7"
  }
 },
 "nbformat": 4,
 "nbformat_minor": 5
}
