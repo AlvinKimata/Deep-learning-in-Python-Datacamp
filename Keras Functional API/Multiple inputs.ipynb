{
 "cells": [
  {
   "cell_type": "code",
   "execution_count": 1,
   "id": "eabbee11-859d-4b9c-b5cf-d2491d2a8b77",
   "metadata": {},
   "outputs": [
    {
     "name": "stderr",
     "output_type": "stream",
     "text": [
      "2022-10-29 11:32:13.309658: I tensorflow/core/platform/cpu_feature_guard.cc:193] This TensorFlow binary is optimized with oneAPI Deep Neural Network Library (oneDNN) to use the following CPU instructions in performance-critical operations:  AVX2 FMA\n",
      "To enable them in other operations, rebuild TensorFlow with the appropriate compiler flags.\n",
      "2022-10-29 11:32:20.577510: W tensorflow/stream_executor/platform/default/dso_loader.cc:64] Could not load dynamic library 'libcudart.so.11.0'; dlerror: libcudart.so.11.0: cannot open shared object file: No such file or directory\n",
      "2022-10-29 11:32:20.577607: I tensorflow/stream_executor/cuda/cudart_stub.cc:29] Ignore above cudart dlerror if you do not have a GPU set up on your machine.\n",
      "2022-10-29 11:32:20.916562: E tensorflow/stream_executor/cuda/cuda_blas.cc:2981] Unable to register cuBLAS factory: Attempting to register factory for plugin cuBLAS when one has already been registered\n",
      "2022-10-29 11:32:32.869772: W tensorflow/stream_executor/platform/default/dso_loader.cc:64] Could not load dynamic library 'libnvinfer.so.7'; dlerror: libnvinfer.so.7: cannot open shared object file: No such file or directory\n",
      "2022-10-29 11:32:32.870219: W tensorflow/stream_executor/platform/default/dso_loader.cc:64] Could not load dynamic library 'libnvinfer_plugin.so.7'; dlerror: libnvinfer_plugin.so.7: cannot open shared object file: No such file or directory\n",
      "2022-10-29 11:32:32.870258: W tensorflow/compiler/tf2tensorrt/utils/py_utils.cc:38] TF-TRT Warning: Cannot dlopen some TensorRT libraries. If you would like to use Nvidia GPU with TensorRT, please make sure the missing libraries mentioned above are installed properly.\n"
     ]
    }
   ],
   "source": [
    "import tensorflow as tf\n",
    "from tensorflow.keras.utils import plot_model"
   ]
  },
  {
   "cell_type": "code",
   "execution_count": 2,
   "id": "e83e98a7-3f54-4f53-8de3-d24ce634cba0",
   "metadata": {},
   "outputs": [
    {
     "name": "stderr",
     "output_type": "stream",
     "text": [
      "2022-10-29 11:32:46.841553: W tensorflow/stream_executor/platform/default/dso_loader.cc:64] Could not load dynamic library 'libcuda.so.1'; dlerror: libcuda.so.1: cannot open shared object file: No such file or directory\n",
      "2022-10-29 11:32:46.876042: W tensorflow/stream_executor/cuda/cuda_driver.cc:263] failed call to cuInit: UNKNOWN ERROR (303)\n",
      "2022-10-29 11:32:46.876218: I tensorflow/stream_executor/cuda/cuda_diagnostics.cc:156] kernel driver does not appear to be running on this host (debonair): /proc/driver/nvidia/version does not exist\n",
      "2022-10-29 11:32:46.914695: I tensorflow/core/platform/cpu_feature_guard.cc:193] This TensorFlow binary is optimized with oneAPI Deep Neural Network Library (oneDNN) to use the following CPU instructions in performance-critical operations:  AVX2 FMA\n",
      "To enable them in other operations, rebuild TensorFlow with the appropriate compiler flags.\n"
     ]
    },
    {
     "name": "stdout",
     "output_type": "stream",
     "text": [
      "Model: \"model1\"\n",
      "_________________________________________________________________\n",
      " Layer (type)                Output Shape              Param #   \n",
      "=================================================================\n",
      " input_2 (InputLayer)        [(None, 300, 300, 32)]    0         \n",
      "                                                                 \n",
      " max_pooling2d (MaxPooling2D  (None, 150, 150, 32)     0         \n",
      " )                                                               \n",
      "                                                                 \n",
      " dense (Dense)               (None, 150, 150, 128)     4224      \n",
      "                                                                 \n",
      " dense_1 (Dense)             (None, 150, 150, 32)      4128      \n",
      "                                                                 \n",
      " dense_2 (Dense)             (None, 150, 150, 10)      330       \n",
      "                                                                 \n",
      "=================================================================\n",
      "Total params: 8,682\n",
      "Trainable params: 8,682\n",
      "Non-trainable params: 0\n",
      "_________________________________________________________________\n"
     ]
    }
   ],
   "source": [
    "visible = tf.keras.layers.Input(shape = (300, 300, 3))\n",
    "\n",
    "#Feature extraction.\n",
    "extract1 = tf.keras.layers.Conv2D(filters = 32, kernel_size = 1)(visible)\n",
    "pool1 = tf.keras.layers.MaxPooling2D(pool_size = (2, 2))(extract1)\n",
    "interp1 = tf.keras.layers.Dense(128, activation = 'relu')(pool1)\n",
    "second_interp1 = tf.keras.layers.Dense(32, activation = 'relu')(interp1)\n",
    "third_interp1 = tf.keras.layers.Dense(10, activation = 'relu')(second_interp1)\n",
    "\n",
    "model1 = tf.keras.Model(extract1, third_interp1, name = 'model1')\n",
    "model1.summary()"
   ]
  },
  {
   "cell_type": "code",
   "execution_count": 3,
   "id": "20a40657-b2f4-4af3-8bf7-dfa4b5c3b67a",
   "metadata": {},
   "outputs": [
    {
     "name": "stdout",
     "output_type": "stream",
     "text": [
      "Model: \"model2\"\n",
      "_________________________________________________________________\n",
      " Layer (type)                Output Shape              Param #   \n",
      "=================================================================\n",
      " input_3 (InputLayer)        [(None, 300, 300, 32)]    0         \n",
      "                                                                 \n",
      " max_pooling2d_1 (MaxPooling  (None, 150, 150, 32)     0         \n",
      " 2D)                                                             \n",
      "                                                                 \n",
      " dense_3 (Dense)             (None, 150, 150, 128)     4224      \n",
      "                                                                 \n",
      " dense_4 (Dense)             (None, 150, 150, 32)      4128      \n",
      "                                                                 \n",
      " dense_5 (Dense)             (None, 150, 150, 10)      330       \n",
      "                                                                 \n",
      "=================================================================\n",
      "Total params: 8,682\n",
      "Trainable params: 8,682\n",
      "Non-trainable params: 0\n",
      "_________________________________________________________________\n"
     ]
    }
   ],
   "source": [
    "extract2 = tf.keras.layers.Conv2D(filters = 32, kernel_size = 1)(visible)\n",
    "pool2 = tf.keras.layers.MaxPooling2D(pool_size = (2, 2))(extract2)\n",
    "interp2 = tf.keras.layers.Dense(128, activation = 'relu')(pool2)\n",
    "second_interp2 = tf.keras.layers.Dense(32, activation = 'relu')(interp2)\n",
    "third_interp2 = tf.keras.layers.Dense(10, activation = 'relu')(second_interp2)\n",
    "\n",
    "model2 = tf.keras.Model(extract2, third_interp2, name = 'model2')\n",
    "model2.summary()"
   ]
  },
  {
   "cell_type": "code",
   "execution_count": 4,
   "id": "b6401a47-6a26-4d09-a1cf-4bc67de856b5",
   "metadata": {},
   "outputs": [
    {
     "name": "stdout",
     "output_type": "stream",
     "text": [
      "Model: \"model3\"\n",
      "_________________________________________________________________\n",
      " Layer (type)                Output Shape              Param #   \n",
      "=================================================================\n",
      " input_1 (InputLayer)        [(None, 300, 300, 3)]     0         \n",
      "                                                                 \n",
      " conv2d_2 (Conv2D)           (None, 300, 300, 32)      128       \n",
      "                                                                 \n",
      " max_pooling2d_2 (MaxPooling  (None, 150, 150, 32)     0         \n",
      " 2D)                                                             \n",
      "                                                                 \n",
      " dense_6 (Dense)             (None, 150, 150, 128)     4224      \n",
      "                                                                 \n",
      " dense_7 (Dense)             (None, 150, 150, 32)      4128      \n",
      "                                                                 \n",
      " dense_8 (Dense)             (None, 150, 150, 10)      330       \n",
      "                                                                 \n",
      "=================================================================\n",
      "Total params: 8,810\n",
      "Trainable params: 8,810\n",
      "Non-trainable params: 0\n",
      "_________________________________________________________________\n"
     ]
    }
   ],
   "source": [
    "extract3 = tf.keras.layers.Conv2D(filters = 32, kernel_size = 1)(visible)\n",
    "pool3 = tf.keras.layers.MaxPooling2D(pool_size = (2, 2))(extract3)\n",
    "interp3 = tf.keras.layers.Dense(128, activation = 'relu')(pool3)\n",
    "second_interp3 = tf.keras.layers.Dense(32, activation = 'relu')(interp3)\n",
    "third_interp3 = tf.keras.layers.Dense(10, activation = 'relu')(second_interp3)\n",
    "\n",
    "model3 = tf.keras.Model(visible, third_interp3, name = 'model3')\n",
    "model3.summary()"
   ]
  },
  {
   "cell_type": "code",
   "execution_count": 5,
   "id": "ba83d46f-c0b1-4696-8d77-e4d98a703cbc",
   "metadata": {},
   "outputs": [],
   "source": [
    "#Merge interpretations.\n",
    "merge = tf.keras.layers.concatenate([third_interp1, third_interp2, third_interp3])"
   ]
  },
  {
   "cell_type": "code",
   "execution_count": 6,
   "id": "6ba4c964-e8ea-42fa-9961-f9e4930e8c67",
   "metadata": {},
   "outputs": [],
   "source": [
    "output = tf.keras.layers.Dense(10, activation = 'softmax')(merge)\n",
    "model = tf.keras.Model(inputs = visible, outputs = output)\n"
   ]
  },
  {
   "cell_type": "code",
   "execution_count": 7,
   "id": "3ce7d1fe-1945-4691-860f-60ef139b77c5",
   "metadata": {},
   "outputs": [
    {
     "name": "stdout",
     "output_type": "stream",
     "text": [
      "Model: \"model\"\n",
      "__________________________________________________________________________________________________\n",
      " Layer (type)                   Output Shape         Param #     Connected to                     \n",
      "==================================================================================================\n",
      " input_1 (InputLayer)           [(None, 300, 300, 3  0           []                               \n",
      "                                )]                                                                \n",
      "                                                                                                  \n",
      " conv2d (Conv2D)                (None, 300, 300, 32  128         ['input_1[0][0]']                \n",
      "                                )                                                                 \n",
      "                                                                                                  \n",
      " conv2d_1 (Conv2D)              (None, 300, 300, 32  128         ['input_1[0][0]']                \n",
      "                                )                                                                 \n",
      "                                                                                                  \n",
      " conv2d_2 (Conv2D)              (None, 300, 300, 32  128         ['input_1[0][0]']                \n",
      "                                )                                                                 \n",
      "                                                                                                  \n",
      " max_pooling2d (MaxPooling2D)   (None, 150, 150, 32  0           ['conv2d[0][0]']                 \n",
      "                                )                                                                 \n",
      "                                                                                                  \n",
      " max_pooling2d_1 (MaxPooling2D)  (None, 150, 150, 32  0          ['conv2d_1[0][0]']               \n",
      "                                )                                                                 \n",
      "                                                                                                  \n",
      " max_pooling2d_2 (MaxPooling2D)  (None, 150, 150, 32  0          ['conv2d_2[0][0]']               \n",
      "                                )                                                                 \n",
      "                                                                                                  \n",
      " dense (Dense)                  (None, 150, 150, 12  4224        ['max_pooling2d[0][0]']          \n",
      "                                8)                                                                \n",
      "                                                                                                  \n",
      " dense_3 (Dense)                (None, 150, 150, 12  4224        ['max_pooling2d_1[0][0]']        \n",
      "                                8)                                                                \n",
      "                                                                                                  \n",
      " dense_6 (Dense)                (None, 150, 150, 12  4224        ['max_pooling2d_2[0][0]']        \n",
      "                                8)                                                                \n",
      "                                                                                                  \n",
      " dense_1 (Dense)                (None, 150, 150, 32  4128        ['dense[0][0]']                  \n",
      "                                )                                                                 \n",
      "                                                                                                  \n",
      " dense_4 (Dense)                (None, 150, 150, 32  4128        ['dense_3[0][0]']                \n",
      "                                )                                                                 \n",
      "                                                                                                  \n",
      " dense_7 (Dense)                (None, 150, 150, 32  4128        ['dense_6[0][0]']                \n",
      "                                )                                                                 \n",
      "                                                                                                  \n",
      " dense_2 (Dense)                (None, 150, 150, 10  330         ['dense_1[0][0]']                \n",
      "                                )                                                                 \n",
      "                                                                                                  \n",
      " dense_5 (Dense)                (None, 150, 150, 10  330         ['dense_4[0][0]']                \n",
      "                                )                                                                 \n",
      "                                                                                                  \n",
      " dense_8 (Dense)                (None, 150, 150, 10  330         ['dense_7[0][0]']                \n",
      "                                )                                                                 \n",
      "                                                                                                  \n",
      " concatenate (Concatenate)      (None, 150, 150, 30  0           ['dense_2[0][0]',                \n",
      "                                )                                 'dense_5[0][0]',                \n",
      "                                                                  'dense_8[0][0]']                \n",
      "                                                                                                  \n",
      " dense_9 (Dense)                (None, 150, 150, 10  310         ['concatenate[0][0]']            \n",
      "                                )                                                                 \n",
      "                                                                                                  \n",
      "==================================================================================================\n",
      "Total params: 26,740\n",
      "Trainable params: 26,740\n",
      "Non-trainable params: 0\n",
      "__________________________________________________________________________________________________\n"
     ]
    }
   ],
   "source": [
    "model.summary()"
   ]
  },
  {
   "cell_type": "code",
   "execution_count": 8,
   "id": "adfef011-b626-4a44-9bba-fd4ee000c212",
   "metadata": {},
   "outputs": [
    {
     "name": "stdout",
     "output_type": "stream",
     "text": [
      "You must install pydot (`pip install pydot`) and install graphviz (see instructions at https://graphviz.gitlab.io/download/) for plot_model to work.\n"
     ]
    }
   ],
   "source": [
    "plot_model(model, to_file = 'another_model.svg', dpi = 70, rankdir = 'TB', show_shapes = True)"
   ]
  },
  {
   "cell_type": "markdown",
   "id": "8570ec5c",
   "metadata": {},
   "source": [
    "![model svg](./another_model.svg)"
   ]
  },
  {
   "cell_type": "code",
   "execution_count": null,
   "id": "aeb8e1d4-fe75-4666-9724-fda2922b021b",
   "metadata": {},
   "outputs": [],
   "source": []
  }
 ],
 "metadata": {
  "kernelspec": {
   "display_name": "Python 3.9.12 ('base')",
   "language": "python",
   "name": "python3"
  },
  "language_info": {
   "codemirror_mode": {
    "name": "ipython",
    "version": 3
   },
   "file_extension": ".py",
   "mimetype": "text/x-python",
   "name": "python",
   "nbconvert_exporter": "python",
   "pygments_lexer": "ipython3",
   "version": "3.9.12"
  },
  "vscode": {
   "interpreter": {
    "hash": "0570141520b63c28470ecad6ff8542a49d29754cf9906cbc70e42fc736766dbd"
   }
  }
 },
 "nbformat": 4,
 "nbformat_minor": 5
}
