{
 "cells": [
  {
   "cell_type": "code",
   "execution_count": 1,
   "id": "714a308c-3fde-4974-b661-3f46af0e0a2e",
   "metadata": {},
   "outputs": [],
   "source": [
    "import numpy as np"
   ]
  },
  {
   "cell_type": "code",
   "execution_count": 2,
   "id": "604a9038-61a2-456e-9a81-d993428db86e",
   "metadata": {},
   "outputs": [],
   "source": [
    "#Set the inputs and weights for the two input layers.\n",
    "input_data = np.array([2, 3])\n",
    "\n",
    "weights = {'node_0': np.array([1, 1]),\n",
    "          'node_1': np.array([-1, 1]),\n",
    "          'output': np.array([2, -1])}"
   ]
  },
  {
   "cell_type": "code",
   "execution_count": 3,
   "id": "c03c4336-70e0-4ddb-8188-bdbac8dd8fa2",
   "metadata": {},
   "outputs": [],
   "source": [
    "#Multiply-add process.\n",
    "node_0_value = (input_data * weights['node_0']).sum()\n",
    "node_1_value = (input_data * weights['node_1']).sum()"
   ]
  },
  {
   "cell_type": "code",
   "execution_count": 4,
   "id": "e7e77500-6492-4010-a9a8-be1352bb876e",
   "metadata": {},
   "outputs": [],
   "source": [
    "#Hidden layer outputs.\n",
    "hidden_layer_outputs = np.array([node_0_value, node_1_value])"
   ]
  },
  {
   "cell_type": "code",
   "execution_count": 5,
   "id": "f7cf3c1e-2f69-4b16-8a24-1e96fcd698b6",
   "metadata": {},
   "outputs": [],
   "source": [
    "#Calculate the output.\n",
    "output = sum(hidden_layer_outputs * weights['output'])"
   ]
  },
  {
   "cell_type": "code",
   "execution_count": 6,
   "id": "ddd3c50b-7ca8-4e93-b6a0-a4bfa0f9ccb4",
   "metadata": {},
   "outputs": [
    {
     "data": {
      "text/plain": [
       "9"
      ]
     },
     "execution_count": 6,
     "metadata": {},
     "output_type": "execute_result"
    }
   ],
   "source": [
    "output"
   ]
  },
  {
   "cell_type": "code",
   "execution_count": 7,
   "id": "4212bd99-f7d3-4124-8d5b-ce6176d07cb0",
   "metadata": {},
   "outputs": [],
   "source": [
    "## Coding the activation function.\n",
    "def relu(input):\n",
    "    output = max(0, input)\n",
    "    return output"
   ]
  },
  {
   "cell_type": "code",
   "execution_count": 11,
   "id": "c7d5b81a-cfc6-45e7-b435-5d084ffad82c",
   "metadata": {},
   "outputs": [
    {
     "data": {
      "text/plain": [
       "9"
      ]
     },
     "execution_count": 11,
     "metadata": {},
     "output_type": "execute_result"
    }
   ],
   "source": [
    "node_0_output = relu(node_0_value)\n",
    "node_1_output = relu(node_1_value)\n",
    "\n",
    "hidden_layer_outputs = np.array([node_0_output, node_1_output])\n",
    "\n",
    "#Calculate the model output.\n",
    "model_output = (hidden_layer_outputs * weights['output']).sum()\n",
    "\n",
    "model_output"
   ]
  },
  {
   "cell_type": "code",
   "execution_count": 13,
   "id": "64cc9462-808a-4d90-9592-ce617d815204",
   "metadata": {},
   "outputs": [],
   "source": [
    "## Applying the network to many observations or rows of data.\n",
    "def predict_with_network(input_data_row, weights):\n",
    "    #1. Calculate node 0 and 1 values.\n",
    "    node_0_input = (input_data_row * weights['node_0']).sum()\n",
    "    node_0_output = relu(node_0_input)\n",
    "    \n",
    "    node_1_input = (input_data_row * weights['node_1']).sum()\n",
    "    node_1_output = relu(node_1_input)\n",
    "    \n",
    "    #2. Put node values into an array.\n",
    "    hidden_layer_outputs = np.array([node_0_output, node_1_output])\n",
    "    \n",
    "    #3. Calculate model output.\n",
    "    input_to_final_layer = (hidden_layer_outputs * weights['output']).sum()\n",
    "    model_output = relu(input_to_final_layer)\n",
    "    \n",
    "    return model_output"
   ]
  },
  {
   "cell_type": "code",
   "execution_count": 14,
   "id": "b2d06f81-733f-474c-9d0b-b0557d60c0c5",
   "metadata": {},
   "outputs": [
    {
     "data": {
      "text/plain": [
       "[8, 12]"
      ]
     },
     "execution_count": 14,
     "metadata": {},
     "output_type": "execute_result"
    }
   ],
   "source": [
    "#Empty list to store prediction results.\n",
    "results = []\n",
    "\n",
    "for input_data_row in input_data:\n",
    "    #Append predictions to network.\n",
    "    results.append(predict_with_network(input_data_row, weights))\n",
    "    \n",
    "results"
   ]
  },
  {
   "cell_type": "code",
   "execution_count": null,
   "id": "7af7906a-ba38-4b87-86fe-916d2be07210",
   "metadata": {},
   "outputs": [],
   "source": []
  }
 ],
 "metadata": {
  "kernelspec": {
   "display_name": "Python 3 (ipykernel)",
   "language": "python",
   "name": "python3"
  },
  "language_info": {
   "codemirror_mode": {
    "name": "ipython",
    "version": 3
   },
   "file_extension": ".py",
   "mimetype": "text/x-python",
   "name": "python",
   "nbconvert_exporter": "python",
   "pygments_lexer": "ipython3",
   "version": "3.9.7"
  }
 },
 "nbformat": 4,
 "nbformat_minor": 5
}
