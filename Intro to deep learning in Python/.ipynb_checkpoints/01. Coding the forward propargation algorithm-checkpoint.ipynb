{
 "cells": [
  {
   "cell_type": "code",
   "execution_count": 1,
   "id": "714a308c-3fde-4974-b661-3f46af0e0a2e",
   "metadata": {},
   "outputs": [],
   "source": [
    "import numpy as np"
   ]
  },
  {
   "cell_type": "code",
   "execution_count": 2,
   "id": "604a9038-61a2-456e-9a81-d993428db86e",
   "metadata": {},
   "outputs": [],
   "source": [
    "#Set the inputs and weights for the two input layers.\n",
    "input_data = np.array([2, 3])\n",
    "\n",
    "weights = {'node_0': np.array([1, 1]),\n",
    "          'node_1': np.array([-1, 1]),\n",
    "          'output': np.array([2, -1])}"
   ]
  },
  {
   "cell_type": "code",
   "execution_count": 3,
   "id": "c03c4336-70e0-4ddb-8188-bdbac8dd8fa2",
   "metadata": {},
   "outputs": [],
   "source": [
    "#Multiply-add process.\n",
    "node_0_value = (input_data * weights['node_0']).sum()\n",
    "node_1_value = (input_data * weights['node_1']).sum()"
   ]
  },
  {
   "cell_type": "code",
   "execution_count": 4,
   "id": "e7e77500-6492-4010-a9a8-be1352bb876e",
   "metadata": {},
   "outputs": [],
   "source": [
    "#Hidden layer outputs.\n",
    "hidden_layer_outputs = np.array([node_0_value, node_1_value])"
   ]
  },
  {
   "cell_type": "code",
   "execution_count": 5,
   "id": "f7cf3c1e-2f69-4b16-8a24-1e96fcd698b6",
   "metadata": {},
   "outputs": [],
   "source": [
    "#Calculate the output.\n",
    "output = sum(hidden_layer_outputs * weights['output'])"
   ]
  },
  {
   "cell_type": "code",
   "execution_count": 6,
   "id": "ddd3c50b-7ca8-4e93-b6a0-a4bfa0f9ccb4",
   "metadata": {},
   "outputs": [
    {
     "data": {
      "text/plain": [
       "9"
      ]
     },
     "execution_count": 6,
     "metadata": {},
     "output_type": "execute_result"
    }
   ],
   "source": [
    "output"
   ]
  },
  {
   "cell_type": "code",
   "execution_count": null,
   "id": "4212bd99-f7d3-4124-8d5b-ce6176d07cb0",
   "metadata": {},
   "outputs": [],
   "source": []
  }
 ],
 "metadata": {
  "kernelspec": {
   "display_name": "Python 3 (ipykernel)",
   "language": "python",
   "name": "python3"
  },
  "language_info": {
   "codemirror_mode": {
    "name": "ipython",
    "version": 3
   },
   "file_extension": ".py",
   "mimetype": "text/x-python",
   "name": "python",
   "nbconvert_exporter": "python",
   "pygments_lexer": "ipython3",
   "version": "3.9.7"
  }
 },
 "nbformat": 4,
 "nbformat_minor": 5
}
