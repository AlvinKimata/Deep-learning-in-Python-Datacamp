{
 "cells": [
  {
   "cell_type": "code",
   "execution_count": 14,
   "id": "ff4ef6e0-bf30-431f-82d6-d134db456fd7",
   "metadata": {},
   "outputs": [],
   "source": [
    "import pandas as pd\n",
    "import numpy as np\n",
    "\n",
    "from tensorflow import keras\n",
    "from tensorflow.keras.models import Model\n",
    "from tensorflow.keras.layers import Input, Dense, Embedding, Flatten, Subtract\n",
    "from tensorflow.keras.utils import plot_model"
   ]
  },
  {
   "cell_type": "code",
   "execution_count": 2,
   "id": "fb48d5bb-1555-423b-bb39-86acaddadcd8",
   "metadata": {},
   "outputs": [
    {
     "data": {
      "text/html": [
       "<div>\n",
       "<style scoped>\n",
       "    .dataframe tbody tr th:only-of-type {\n",
       "        vertical-align: middle;\n",
       "    }\n",
       "\n",
       "    .dataframe tbody tr th {\n",
       "        vertical-align: top;\n",
       "    }\n",
       "\n",
       "    .dataframe thead th {\n",
       "        text-align: right;\n",
       "    }\n",
       "</style>\n",
       "<table border=\"1\" class=\"dataframe\">\n",
       "  <thead>\n",
       "    <tr style=\"text-align: right;\">\n",
       "      <th></th>\n",
       "      <th>season</th>\n",
       "      <th>team_1</th>\n",
       "      <th>team_2</th>\n",
       "      <th>home</th>\n",
       "      <th>score_diff</th>\n",
       "      <th>score_1</th>\n",
       "      <th>score_2</th>\n",
       "      <th>won</th>\n",
       "    </tr>\n",
       "  </thead>\n",
       "  <tbody>\n",
       "    <tr>\n",
       "      <th>0</th>\n",
       "      <td>1985</td>\n",
       "      <td>3745</td>\n",
       "      <td>6664</td>\n",
       "      <td>0</td>\n",
       "      <td>17</td>\n",
       "      <td>81</td>\n",
       "      <td>64</td>\n",
       "      <td>1</td>\n",
       "    </tr>\n",
       "    <tr>\n",
       "      <th>1</th>\n",
       "      <td>1985</td>\n",
       "      <td>126</td>\n",
       "      <td>7493</td>\n",
       "      <td>1</td>\n",
       "      <td>7</td>\n",
       "      <td>77</td>\n",
       "      <td>70</td>\n",
       "      <td>1</td>\n",
       "    </tr>\n",
       "    <tr>\n",
       "      <th>2</th>\n",
       "      <td>1985</td>\n",
       "      <td>288</td>\n",
       "      <td>3593</td>\n",
       "      <td>1</td>\n",
       "      <td>7</td>\n",
       "      <td>63</td>\n",
       "      <td>56</td>\n",
       "      <td>1</td>\n",
       "    </tr>\n",
       "    <tr>\n",
       "      <th>3</th>\n",
       "      <td>1985</td>\n",
       "      <td>1846</td>\n",
       "      <td>9881</td>\n",
       "      <td>1</td>\n",
       "      <td>16</td>\n",
       "      <td>70</td>\n",
       "      <td>54</td>\n",
       "      <td>1</td>\n",
       "    </tr>\n",
       "    <tr>\n",
       "      <th>4</th>\n",
       "      <td>1985</td>\n",
       "      <td>2675</td>\n",
       "      <td>10298</td>\n",
       "      <td>1</td>\n",
       "      <td>12</td>\n",
       "      <td>86</td>\n",
       "      <td>74</td>\n",
       "      <td>1</td>\n",
       "    </tr>\n",
       "  </tbody>\n",
       "</table>\n",
       "</div>"
      ],
      "text/plain": [
       "   season  team_1  team_2  home  score_diff  score_1  score_2  won\n",
       "0    1985    3745    6664     0          17       81       64    1\n",
       "1    1985     126    7493     1           7       77       70    1\n",
       "2    1985     288    3593     1           7       63       56    1\n",
       "3    1985    1846    9881     1          16       70       54    1\n",
       "4    1985    2675   10298     1          12       86       74    1"
      ]
     },
     "execution_count": 2,
     "metadata": {},
     "output_type": "execute_result"
    }
   ],
   "source": [
    "games_season = pd.read_csv('inputs/games_season.csv')\n",
    "games_tourney = pd.read_csv('inputs/games_tourney.csv')\n",
    "games_season.head()"
   ]
  },
  {
   "cell_type": "code",
   "execution_count": 3,
   "id": "aea6e360-5dc9-48af-99c6-21527a720d87",
   "metadata": {},
   "outputs": [
    {
     "data": {
      "text/plain": [
       "10888"
      ]
     },
     "execution_count": 3,
     "metadata": {},
     "output_type": "execute_result"
    }
   ],
   "source": [
    "#Count the number of teams.\n",
    "n_teams = np.unique(games_season[['team_1', 'team_2']]).shape[0]\n",
    "n_teams"
   ]
  },
  {
   "cell_type": "code",
   "execution_count": 4,
   "id": "bbcecaec-a21f-4839-a2c4-fb0da8ebfc75",
   "metadata": {},
   "outputs": [],
   "source": [
    "#Create an embedding layer.\n",
    "#The embedding layer maps each team ID to a single number representing the team's strngth.\n",
    "\n",
    "team_lookup = Embedding(input_dim = n_teams, output_dim = 1, \n",
    "                       input_length = 1, name = 'Team-Strength')\n"
   ]
  },
  {
   "cell_type": "markdown",
   "id": "e15ac86d-c31e-4963-bc41-7b157f662f55",
   "metadata": {},
   "source": [
    "### Define the team model."
   ]
  },
  {
   "cell_type": "code",
   "execution_count": 5,
   "id": "a53f1dcd-6281-4ec8-a183-0aebf8487278",
   "metadata": {},
   "outputs": [
    {
     "name": "stderr",
     "output_type": "stream",
     "text": [
      "2022-06-10 17:09:25.640855: W tensorflow/stream_executor/platform/default/dso_loader.cc:64] Could not load dynamic library 'libcuda.so.1'; dlerror: libcuda.so.1: cannot open shared object file: No such file or directory\n",
      "2022-06-10 17:09:25.640929: W tensorflow/stream_executor/cuda/cuda_driver.cc:269] failed call to cuInit: UNKNOWN ERROR (303)\n",
      "2022-06-10 17:09:25.641027: I tensorflow/stream_executor/cuda/cuda_diagnostics.cc:156] kernel driver does not appear to be running on this host (debonair): /proc/driver/nvidia/version does not exist\n",
      "2022-06-10 17:09:25.648562: I tensorflow/core/platform/cpu_feature_guard.cc:193] This TensorFlow binary is optimized with oneAPI Deep Neural Network Library (oneDNN) to use the following CPU instructions in performance-critical operations:  AVX2 FMA\n",
      "To enable them in other operations, rebuild TensorFlow with the appropriate compiler flags.\n"
     ]
    }
   ],
   "source": [
    "#Create an input layer from the team ID.\n",
    "teamid_in = Input(shape = (1, ))\n",
    "\n",
    "#Look for the input in the team strength embedding layer.\n",
    "strength_lookup = team_lookup(teamid_in)\n",
    "\n",
    "#Flatten the output.\n",
    "strength_lookup_flat = Flatten()(strength_lookup)\n",
    "\n",
    "#Combine the operations into a single, re-usable model.\n",
    "team_strength_model = Model(teamid_in, strength_lookup_flat, name = 'Team-Strength-Model')"
   ]
  },
  {
   "cell_type": "code",
   "execution_count": 6,
   "id": "9449f23b-390a-4247-ae47-fd53939681f6",
   "metadata": {},
   "outputs": [
    {
     "name": "stdout",
     "output_type": "stream",
     "text": [
      "Model: \"Team-Strength-Model\"\n",
      "_________________________________________________________________\n",
      " Layer (type)                Output Shape              Param #   \n",
      "=================================================================\n",
      " input_1 (InputLayer)        [(None, 1)]               0         \n",
      "                                                                 \n",
      " Team-Strength (Embedding)   (None, 1, 1)              10888     \n",
      "                                                                 \n",
      " flatten (Flatten)           (None, 1)                 0         \n",
      "                                                                 \n",
      "=================================================================\n",
      "Total params: 10,888\n",
      "Trainable params: 10,888\n",
      "Non-trainable params: 0\n",
      "_________________________________________________________________\n"
     ]
    }
   ],
   "source": [
    "team_strength_model.compile(loss = 'mae', \n",
    "                           optimizer = 'adam')\n",
    "\n",
    "team_strength_model.summary()"
   ]
  },
  {
   "cell_type": "markdown",
   "id": "5d2ae329-66b4-4308-8d5b-4d42cb3e02c4",
   "metadata": {},
   "source": [
    "### Define 2 inputs."
   ]
  },
  {
   "cell_type": "code",
   "execution_count": 8,
   "id": "6525b8e5-ad57-48cd-8f21-cef9f1eb91d7",
   "metadata": {},
   "outputs": [],
   "source": [
    "team_1_in = Input(shape = (1, ), name = 'Team-1-In')\n",
    "team_2_in = Input(shape = (1, ), name = 'Team-2-In')"
   ]
  },
  {
   "cell_type": "markdown",
   "id": "a5025a94-25e1-4a8d-9ad3-f233921e1520",
   "metadata": {},
   "source": [
    "### Lookup both inputs in the same model."
   ]
  },
  {
   "cell_type": "code",
   "execution_count": 10,
   "id": "499a20a9-046b-462e-96b5-47cab1b191f9",
   "metadata": {},
   "outputs": [],
   "source": [
    "#Lookup team 1 in the team strength model.\n",
    "team_1_strength = team_strength_model(team_1_in)\n",
    "\n",
    "#Lookup team 2 in the team strength model.\n",
    "team_2_strength = team_strength_model(team_2_in)"
   ]
  },
  {
   "cell_type": "markdown",
   "id": "6a784823-fa17-4f75-93b2-f49149cb5f2f",
   "metadata": {},
   "source": [
    "### Output layer using shared layers."
   ]
  },
  {
   "cell_type": "code",
   "execution_count": 12,
   "id": "6e55e680-9bf4-41aa-8785-488f0408e6db",
   "metadata": {},
   "outputs": [],
   "source": [
    "#Create a subtract layer from keras.\n",
    "score_diff = Subtract()([team_1_strength, team_2_strength])"
   ]
  },
  {
   "cell_type": "code",
   "execution_count": 13,
   "id": "9d4ee5be-7153-467c-a177-4ae6ef14df95",
   "metadata": {},
   "outputs": [
    {
     "name": "stdout",
     "output_type": "stream",
     "text": [
      "Model: \"model\"\n",
      "__________________________________________________________________________________________________\n",
      " Layer (type)                   Output Shape         Param #     Connected to                     \n",
      "==================================================================================================\n",
      " Team-1-In (InputLayer)         [(None, 1)]          0           []                               \n",
      "                                                                                                  \n",
      " Team-2-In (InputLayer)         [(None, 1)]          0           []                               \n",
      "                                                                                                  \n",
      " Team-Strength-Model (Functiona  (None, 1)           10888       ['Team-1-In[0][0]',              \n",
      " l)                                                               'Team-2-In[0][0]']              \n",
      "                                                                                                  \n",
      " subtract (Subtract)            (None, 1)            0           ['Team-Strength-Model[1][0]',    \n",
      "                                                                  'Team-Strength-Model[2][0]']    \n",
      "                                                                                                  \n",
      "==================================================================================================\n",
      "Total params: 10,888\n",
      "Trainable params: 10,888\n",
      "Non-trainable params: 0\n",
      "__________________________________________________________________________________________________\n"
     ]
    }
   ],
   "source": [
    "#Create the model.\n",
    "model = Model([team_1_in, team_2_in], score_diff)\n",
    "\n",
    "#Compile the model.\n",
    "model.compile(optimizer = 'adam',\n",
    "             loss = 'mean_absolute_error')\n",
    "\n",
    "model.summary()"
   ]
  },
  {
   "cell_type": "code",
   "execution_count": 16,
   "id": "58e4037f-803e-4994-9157-e269eac15b97",
   "metadata": {},
   "outputs": [
    {
     "ename": "ValueError",
     "evalue": "Cannot embed the 'svg' image format",
     "output_type": "error",
     "traceback": [
      "\u001b[0;31m---------------------------------------------------------------------------\u001b[0m",
      "\u001b[0;31mValueError\u001b[0m                                Traceback (most recent call last)",
      "\u001b[0;32m/tmp/ipykernel_44342/2274689483.py\u001b[0m in \u001b[0;36m<cell line: 1>\u001b[0;34m()\u001b[0m\n\u001b[0;32m----> 1\u001b[0;31m \u001b[0mplot_model\u001b[0m\u001b[0;34m(\u001b[0m\u001b[0mmodel\u001b[0m\u001b[0;34m,\u001b[0m \u001b[0mto_file\u001b[0m \u001b[0;34m=\u001b[0m \u001b[0;34m'inputs/model.svg'\u001b[0m\u001b[0;34m)\u001b[0m\u001b[0;34m\u001b[0m\u001b[0;34m\u001b[0m\u001b[0m\n\u001b[0m",
      "\u001b[0;32m~/anaconda3/lib/python3.9/site-packages/keras/utils/vis_utils.py\u001b[0m in \u001b[0;36mplot_model\u001b[0;34m(model, to_file, show_shapes, show_dtype, show_layer_names, rankdir, expand_nested, dpi, layer_range, show_layer_activations)\u001b[0m\n\u001b[1;32m    445\u001b[0m     \u001b[0;32mtry\u001b[0m\u001b[0;34m:\u001b[0m\u001b[0;34m\u001b[0m\u001b[0;34m\u001b[0m\u001b[0m\n\u001b[1;32m    446\u001b[0m       \u001b[0;32mfrom\u001b[0m \u001b[0mIPython\u001b[0m \u001b[0;32mimport\u001b[0m \u001b[0mdisplay\u001b[0m\u001b[0;34m\u001b[0m\u001b[0;34m\u001b[0m\u001b[0m\n\u001b[0;32m--> 447\u001b[0;31m       \u001b[0;32mreturn\u001b[0m \u001b[0mdisplay\u001b[0m\u001b[0;34m.\u001b[0m\u001b[0mImage\u001b[0m\u001b[0;34m(\u001b[0m\u001b[0mfilename\u001b[0m\u001b[0;34m=\u001b[0m\u001b[0mto_file\u001b[0m\u001b[0;34m)\u001b[0m\u001b[0;34m\u001b[0m\u001b[0;34m\u001b[0m\u001b[0m\n\u001b[0m\u001b[1;32m    448\u001b[0m     \u001b[0;32mexcept\u001b[0m \u001b[0mImportError\u001b[0m\u001b[0;34m:\u001b[0m\u001b[0;34m\u001b[0m\u001b[0;34m\u001b[0m\u001b[0m\n\u001b[1;32m    449\u001b[0m       \u001b[0;32mpass\u001b[0m\u001b[0;34m\u001b[0m\u001b[0;34m\u001b[0m\u001b[0m\n",
      "\u001b[0;32m~/anaconda3/lib/python3.9/site-packages/IPython/core/display.py\u001b[0m in \u001b[0;36m__init__\u001b[0;34m(self, data, url, filename, format, embed, width, height, retina, unconfined, metadata)\u001b[0m\n\u001b[1;32m   1221\u001b[0m \u001b[0;34m\u001b[0m\u001b[0m\n\u001b[1;32m   1222\u001b[0m         \u001b[0;32mif\u001b[0m \u001b[0mself\u001b[0m\u001b[0;34m.\u001b[0m\u001b[0membed\u001b[0m \u001b[0;32mand\u001b[0m \u001b[0mself\u001b[0m\u001b[0;34m.\u001b[0m\u001b[0mformat\u001b[0m \u001b[0;32mnot\u001b[0m \u001b[0;32min\u001b[0m \u001b[0mself\u001b[0m\u001b[0;34m.\u001b[0m\u001b[0m_ACCEPTABLE_EMBEDDINGS\u001b[0m\u001b[0;34m:\u001b[0m\u001b[0;34m\u001b[0m\u001b[0;34m\u001b[0m\u001b[0m\n\u001b[0;32m-> 1223\u001b[0;31m             \u001b[0;32mraise\u001b[0m \u001b[0mValueError\u001b[0m\u001b[0;34m(\u001b[0m\u001b[0;34m\"Cannot embed the '%s' image format\"\u001b[0m \u001b[0;34m%\u001b[0m \u001b[0;34m(\u001b[0m\u001b[0mself\u001b[0m\u001b[0;34m.\u001b[0m\u001b[0mformat\u001b[0m\u001b[0;34m)\u001b[0m\u001b[0;34m)\u001b[0m\u001b[0;34m\u001b[0m\u001b[0;34m\u001b[0m\u001b[0m\n\u001b[0m\u001b[1;32m   1224\u001b[0m         \u001b[0;32mif\u001b[0m \u001b[0mself\u001b[0m\u001b[0;34m.\u001b[0m\u001b[0membed\u001b[0m\u001b[0;34m:\u001b[0m\u001b[0;34m\u001b[0m\u001b[0;34m\u001b[0m\u001b[0m\n\u001b[1;32m   1225\u001b[0m             \u001b[0mself\u001b[0m\u001b[0;34m.\u001b[0m\u001b[0m_mimetype\u001b[0m \u001b[0;34m=\u001b[0m \u001b[0mself\u001b[0m\u001b[0;34m.\u001b[0m\u001b[0m_MIMETYPES\u001b[0m\u001b[0;34m.\u001b[0m\u001b[0mget\u001b[0m\u001b[0;34m(\u001b[0m\u001b[0mself\u001b[0m\u001b[0;34m.\u001b[0m\u001b[0mformat\u001b[0m\u001b[0;34m)\u001b[0m\u001b[0;34m\u001b[0m\u001b[0;34m\u001b[0m\u001b[0m\n",
      "\u001b[0;31mValueError\u001b[0m: Cannot embed the 'svg' image format"
     ]
    }
   ],
   "source": [
    "plot_model(model, to_file = 'inputs/model.svg')"
   ]
  },
  {
   "cell_type": "markdown",
   "id": "20c84c27-8327-4397-ae9f-c81a665298f6",
   "metadata": {},
   "source": [
    "### Fit the model to the regular season training data.'"
   ]
  },
  {
   "cell_type": "code",
   "execution_count": 17,
   "id": "b1583366-0b46-43e2-b577-28e0d1dd6c2c",
   "metadata": {},
   "outputs": [
    {
     "name": "stdout",
     "output_type": "stream",
     "text": [
      "8780/8780 [==============================] - 34s 4ms/step - loss: 12.0494 - val_loss: 11.7266\n"
     ]
    },
    {
     "data": {
      "text/plain": [
       "<keras.callbacks.History at 0x7f57a97c37c0>"
      ]
     },
     "execution_count": 17,
     "metadata": {},
     "output_type": "execute_result"
    }
   ],
   "source": [
    "#Get the colums for training.\n",
    "input_1 = games_season['team_1']\n",
    "input_2 = games_season['team_2']\n",
    "\n",
    "model.fit([input_1, input_2], games_season['score_diff'], \n",
    "         epochs = 1, batch_size = 32, validation_split = 0.10, verbose = 1)"
   ]
  },
  {
   "cell_type": "markdown",
   "id": "554d10db-d423-47c2-bef5-0400e0fd8bff",
   "metadata": {},
   "source": [
    "### Evaluate the model on the test data."
   ]
  },
  {
   "cell_type": "code",
   "execution_count": 18,
   "id": "88c31158-099e-4be9-aa65-dc5cd81501ef",
   "metadata": {},
   "outputs": [
    {
     "name": "stdout",
     "output_type": "stream",
     "text": [
      "133/133 [==============================] - 0s 3ms/step - loss: 11.6176\n"
     ]
    },
    {
     "data": {
      "text/plain": [
       "11.617619514465332"
      ]
     },
     "execution_count": 18,
     "metadata": {},
     "output_type": "execute_result"
    }
   ],
   "source": [
    "#Get team for the tournament data.\n",
    "input_1 = games_tourney['team_1']\n",
    "input_2 = games_tourney['team_2']\n",
    "\n",
    "#Evaluate model.\n",
    "model.evaluate([input_1, input_2], games_tourney['score_diff'], verbose = 1)"
   ]
  },
  {
   "cell_type": "code",
   "execution_count": null,
   "id": "b79ce5f9-3c58-47b3-94ee-2d9e9140f793",
   "metadata": {},
   "outputs": [],
   "source": []
  }
 ],
 "metadata": {
  "kernelspec": {
   "display_name": "Python 3 (ipykernel)",
   "language": "python",
   "name": "python3"
  },
  "language_info": {
   "codemirror_mode": {
    "name": "ipython",
    "version": 3
   },
   "file_extension": ".py",
   "mimetype": "text/x-python",
   "name": "python",
   "nbconvert_exporter": "python",
   "pygments_lexer": "ipython3",
   "version": "3.9.7"
  }
 },
 "nbformat": 4,
 "nbformat_minor": 5
}
