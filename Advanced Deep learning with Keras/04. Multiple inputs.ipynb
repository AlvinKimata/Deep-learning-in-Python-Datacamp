{
 "cells": [
  {
   "cell_type": "markdown",
   "id": "ee053e94-35b1-4bb1-ac54-fecdc040d7ab",
   "metadata": {},
   "source": [
    "# _Chapter 2._"
   ]
  },
  {
   "cell_type": "code",
   "execution_count": 8,
   "id": "ff4ef6e0-bf30-431f-82d6-d134db456fd7",
   "metadata": {},
   "outputs": [],
   "source": [
    "import pandas as pd\n",
    "import numpy as np\n",
    "\n",
    "from tensorflow import keras\n",
    "from tensorflow.keras.models import Model\n",
    "from tensorflow.keras.layers import (Input, Dense, Embedding,\n",
    "                                     Flatten, Subtract, Concatenate)\n",
    "from tensorflow.keras.utils import plot_model"
   ]
  },
  {
   "cell_type": "code",
   "execution_count": 2,
   "id": "fb48d5bb-1555-423b-bb39-86acaddadcd8",
   "metadata": {},
   "outputs": [
    {
     "data": {
      "text/html": [
       "<div>\n",
       "<style scoped>\n",
       "    .dataframe tbody tr th:only-of-type {\n",
       "        vertical-align: middle;\n",
       "    }\n",
       "\n",
       "    .dataframe tbody tr th {\n",
       "        vertical-align: top;\n",
       "    }\n",
       "\n",
       "    .dataframe thead th {\n",
       "        text-align: right;\n",
       "    }\n",
       "</style>\n",
       "<table border=\"1\" class=\"dataframe\">\n",
       "  <thead>\n",
       "    <tr style=\"text-align: right;\">\n",
       "      <th></th>\n",
       "      <th>season</th>\n",
       "      <th>team_1</th>\n",
       "      <th>team_2</th>\n",
       "      <th>home</th>\n",
       "      <th>score_diff</th>\n",
       "      <th>score_1</th>\n",
       "      <th>score_2</th>\n",
       "      <th>won</th>\n",
       "    </tr>\n",
       "  </thead>\n",
       "  <tbody>\n",
       "    <tr>\n",
       "      <th>0</th>\n",
       "      <td>1985</td>\n",
       "      <td>3745</td>\n",
       "      <td>6664</td>\n",
       "      <td>0</td>\n",
       "      <td>17</td>\n",
       "      <td>81</td>\n",
       "      <td>64</td>\n",
       "      <td>1</td>\n",
       "    </tr>\n",
       "    <tr>\n",
       "      <th>1</th>\n",
       "      <td>1985</td>\n",
       "      <td>126</td>\n",
       "      <td>7493</td>\n",
       "      <td>1</td>\n",
       "      <td>7</td>\n",
       "      <td>77</td>\n",
       "      <td>70</td>\n",
       "      <td>1</td>\n",
       "    </tr>\n",
       "    <tr>\n",
       "      <th>2</th>\n",
       "      <td>1985</td>\n",
       "      <td>288</td>\n",
       "      <td>3593</td>\n",
       "      <td>1</td>\n",
       "      <td>7</td>\n",
       "      <td>63</td>\n",
       "      <td>56</td>\n",
       "      <td>1</td>\n",
       "    </tr>\n",
       "    <tr>\n",
       "      <th>3</th>\n",
       "      <td>1985</td>\n",
       "      <td>1846</td>\n",
       "      <td>9881</td>\n",
       "      <td>1</td>\n",
       "      <td>16</td>\n",
       "      <td>70</td>\n",
       "      <td>54</td>\n",
       "      <td>1</td>\n",
       "    </tr>\n",
       "    <tr>\n",
       "      <th>4</th>\n",
       "      <td>1985</td>\n",
       "      <td>2675</td>\n",
       "      <td>10298</td>\n",
       "      <td>1</td>\n",
       "      <td>12</td>\n",
       "      <td>86</td>\n",
       "      <td>74</td>\n",
       "      <td>1</td>\n",
       "    </tr>\n",
       "  </tbody>\n",
       "</table>\n",
       "</div>"
      ],
      "text/plain": [
       "   season  team_1  team_2  home  score_diff  score_1  score_2  won\n",
       "0    1985    3745    6664     0          17       81       64    1\n",
       "1    1985     126    7493     1           7       77       70    1\n",
       "2    1985     288    3593     1           7       63       56    1\n",
       "3    1985    1846    9881     1          16       70       54    1\n",
       "4    1985    2675   10298     1          12       86       74    1"
      ]
     },
     "execution_count": 2,
     "metadata": {},
     "output_type": "execute_result"
    }
   ],
   "source": [
    "games_season = pd.read_csv('inputs/games_season.csv')\n",
    "games_tourney = pd.read_csv('inputs/games_tourney.csv')\n",
    "games_season.head()"
   ]
  },
  {
   "cell_type": "code",
   "execution_count": 3,
   "id": "aea6e360-5dc9-48af-99c6-21527a720d87",
   "metadata": {},
   "outputs": [
    {
     "data": {
      "text/plain": [
       "10888"
      ]
     },
     "execution_count": 3,
     "metadata": {},
     "output_type": "execute_result"
    }
   ],
   "source": [
    "#Count the number of teams.\n",
    "n_teams = np.unique(games_season[['team_1', 'team_2']]).shape[0]\n",
    "n_teams"
   ]
  },
  {
   "cell_type": "code",
   "execution_count": 4,
   "id": "bbcecaec-a21f-4839-a2c4-fb0da8ebfc75",
   "metadata": {},
   "outputs": [],
   "source": [
    "#Create an embedding layer.\n",
    "#The embedding layer maps each team ID to a single number representing the team's strngth.\n",
    "\n",
    "team_lookup = Embedding(input_dim = n_teams, output_dim = 1, \n",
    "                       input_length = 1, name = 'Team-Strength')"
   ]
  },
  {
   "cell_type": "markdown",
   "id": "e15ac86d-c31e-4963-bc41-7b157f662f55",
   "metadata": {},
   "source": [
    "### Define the team model."
   ]
  },
  {
   "cell_type": "code",
   "execution_count": 5,
   "id": "a53f1dcd-6281-4ec8-a183-0aebf8487278",
   "metadata": {},
   "outputs": [
    {
     "name": "stderr",
     "output_type": "stream",
     "text": [
      "2022-06-10 17:29:51.156879: W tensorflow/stream_executor/platform/default/dso_loader.cc:64] Could not load dynamic library 'libcuda.so.1'; dlerror: libcuda.so.1: cannot open shared object file: No such file or directory\n",
      "2022-06-10 17:29:51.156982: W tensorflow/stream_executor/cuda/cuda_driver.cc:269] failed call to cuInit: UNKNOWN ERROR (303)\n",
      "2022-06-10 17:29:51.157057: I tensorflow/stream_executor/cuda/cuda_diagnostics.cc:156] kernel driver does not appear to be running on this host (debonair): /proc/driver/nvidia/version does not exist\n",
      "2022-06-10 17:29:51.157697: I tensorflow/core/platform/cpu_feature_guard.cc:193] This TensorFlow binary is optimized with oneAPI Deep Neural Network Library (oneDNN) to use the following CPU instructions in performance-critical operations:  AVX2 FMA\n",
      "To enable them in other operations, rebuild TensorFlow with the appropriate compiler flags.\n"
     ]
    }
   ],
   "source": [
    "#Create an input layer from the team ID.\n",
    "teamid_in = Input(shape = (1, ))\n",
    "\n",
    "#Look for the input in the team strength embedding layer.\n",
    "strength_lookup = team_lookup(teamid_in)\n",
    "\n",
    "#Flatten the output.\n",
    "strength_lookup_flat = Flatten()(strength_lookup)\n",
    "\n",
    "#Combine the operations into a single, re-usable model.\n",
    "team_strength_model = Model(teamid_in, strength_lookup_flat, name = 'Team-Strength-Model')"
   ]
  },
  {
   "cell_type": "code",
   "execution_count": 6,
   "id": "9449f23b-390a-4247-ae47-fd53939681f6",
   "metadata": {},
   "outputs": [
    {
     "name": "stdout",
     "output_type": "stream",
     "text": [
      "Model: \"Team-Strength-Model\"\n",
      "_________________________________________________________________\n",
      " Layer (type)                Output Shape              Param #   \n",
      "=================================================================\n",
      " input_1 (InputLayer)        [(None, 1)]               0         \n",
      "                                                                 \n",
      " Team-Strength (Embedding)   (None, 1, 1)              10888     \n",
      "                                                                 \n",
      " flatten (Flatten)           (None, 1)                 0         \n",
      "                                                                 \n",
      "=================================================================\n",
      "Total params: 10,888\n",
      "Trainable params: 10,888\n",
      "Non-trainable params: 0\n",
      "_________________________________________________________________\n"
     ]
    }
   ],
   "source": [
    "team_strength_model.compile(loss = 'mae', \n",
    "                           optimizer = 'adam')\n",
    "\n",
    "team_strength_model.summary()"
   ]
  },
  {
   "cell_type": "markdown",
   "id": "5d2ae329-66b4-4308-8d5b-4d42cb3e02c4",
   "metadata": {},
   "source": [
    "### Define multiple inputs."
   ]
  },
  {
   "cell_type": "code",
   "execution_count": 7,
   "id": "6525b8e5-ad57-48cd-8f21-cef9f1eb91d7",
   "metadata": {},
   "outputs": [],
   "source": [
    "team_1_in = Input(shape = (1, ), name = 'Team-1-In')\n",
    "team_2_in = Input(shape = (1, ), name = 'Team-2-In')\n",
    "\n",
    "#Create an iput for home vs away.\n",
    "home_in = Input(shape = (1, ), name = 'Home-In')"
   ]
  },
  {
   "cell_type": "markdown",
   "id": "a5025a94-25e1-4a8d-9ad3-f233921e1520",
   "metadata": {},
   "source": [
    "### Lookup both inputs in the same model."
   ]
  },
  {
   "cell_type": "code",
   "execution_count": 9,
   "id": "499a20a9-046b-462e-96b5-47cab1b191f9",
   "metadata": {},
   "outputs": [],
   "source": [
    "#Lookup team 1 in the team strength model.\n",
    "team_1_strength = team_strength_model(team_1_in)\n",
    "\n",
    "#Lookup team 2 in the team strength model.\n",
    "team_2_strength = team_strength_model(team_2_in)\n",
    "\n",
    "#Combine the team strengths with the home input using a concatenate layer, then add a dense layer.\n",
    "out = Concatenate()([team_1_strength, team_2_strength, home_in])\n",
    "out = Dense(1)(out)"
   ]
  },
  {
   "cell_type": "code",
   "execution_count": 10,
   "id": "9d4ee5be-7153-467c-a177-4ae6ef14df95",
   "metadata": {},
   "outputs": [
    {
     "name": "stdout",
     "output_type": "stream",
     "text": [
      "Model: \"model\"\n",
      "__________________________________________________________________________________________________\n",
      " Layer (type)                   Output Shape         Param #     Connected to                     \n",
      "==================================================================================================\n",
      " Team-1-In (InputLayer)         [(None, 1)]          0           []                               \n",
      "                                                                                                  \n",
      " Team-2-In (InputLayer)         [(None, 1)]          0           []                               \n",
      "                                                                                                  \n",
      " Team-Strength-Model (Functiona  (None, 1)           10888       ['Team-1-In[0][0]',              \n",
      " l)                                                               'Team-2-In[0][0]']              \n",
      "                                                                                                  \n",
      " Home-In (InputLayer)           [(None, 1)]          0           []                               \n",
      "                                                                                                  \n",
      " concatenate (Concatenate)      (None, 3)            0           ['Team-Strength-Model[0][0]',    \n",
      "                                                                  'Team-Strength-Model[1][0]',    \n",
      "                                                                  'Home-In[0][0]']                \n",
      "                                                                                                  \n",
      " dense (Dense)                  (None, 1)            4           ['concatenate[0][0]']            \n",
      "                                                                                                  \n",
      "==================================================================================================\n",
      "Total params: 10,892\n",
      "Trainable params: 10,892\n",
      "Non-trainable params: 0\n",
      "__________________________________________________________________________________________________\n"
     ]
    }
   ],
   "source": [
    "#Create the model.\n",
    "model = Model([team_1_in, team_2_in, home_in], out)\n",
    "\n",
    "#Compile the model.\n",
    "model.compile(optimizer = 'adam',\n",
    "             loss = 'mean_absolute_error')\n",
    "\n",
    "model.summary()"
   ]
  },
  {
   "cell_type": "markdown",
   "id": "20c84c27-8327-4397-ae9f-c81a665298f6",
   "metadata": {},
   "source": [
    "### Fit the model to the regular season training data.'"
   ]
  },
  {
   "cell_type": "code",
   "execution_count": 13,
   "id": "58e4037f-803e-4994-9157-e269eac15b97",
   "metadata": {},
   "outputs": [
    {
     "name": "stdout",
     "output_type": "stream",
     "text": [
      "8780/8780 [==============================] - 34s 4ms/step - loss: 11.6543 - val_loss: 15.4340\n"
     ]
    },
    {
     "data": {
      "text/plain": [
       "<keras.callbacks.History at 0x7fcdcd2a29d0>"
      ]
     },
     "execution_count": 13,
     "metadata": {},
     "output_type": "execute_result"
    }
   ],
   "source": [
    "#Fit model.\n",
    "model.fit([games_season['team_1'], games_season['team_2'], games_season['home']],\n",
    "          games_season['score_diff'], epochs = 1,\n",
    "         verbose = 1, validation_split = 0.10, batch_size = 32)"
   ]
  },
  {
   "cell_type": "markdown",
   "id": "554d10db-d423-47c2-bef5-0400e0fd8bff",
   "metadata": {},
   "source": [
    "### Evaluate the model on the test data."
   ]
  },
  {
   "cell_type": "code",
   "execution_count": 14,
   "id": "88c31158-099e-4be9-aa65-dc5cd81501ef",
   "metadata": {},
   "outputs": [
    {
     "name": "stdout",
     "output_type": "stream",
     "text": [
      "133/133 [==============================] - 0s 3ms/step - loss: 11.4698\n",
      "11.469783782958984\n"
     ]
    }
   ],
   "source": [
    "print(model.evaluate([games_tourney['team_1'], games_tourney['team_2'], games_tourney['home']], \n",
    "                     games_tourney['score_diff'],verbose = 1))"
   ]
  },
  {
   "cell_type": "code",
   "execution_count": null,
   "id": "b79ce5f9-3c58-47b3-94ee-2d9e9140f793",
   "metadata": {},
   "outputs": [],
   "source": []
  }
 ],
 "metadata": {
  "kernelspec": {
   "display_name": "Python 3 (ipykernel)",
   "language": "python",
   "name": "python3"
  },
  "language_info": {
   "codemirror_mode": {
    "name": "ipython",
    "version": 3
   },
   "file_extension": ".py",
   "mimetype": "text/x-python",
   "name": "python",
   "nbconvert_exporter": "python",
   "pygments_lexer": "ipython3",
   "version": "3.9.7"
  }
 },
 "nbformat": 4,
 "nbformat_minor": 5
}
