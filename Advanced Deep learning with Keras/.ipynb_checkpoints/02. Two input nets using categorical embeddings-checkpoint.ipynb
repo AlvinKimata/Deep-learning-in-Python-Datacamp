{
 "cells": [
  {
   "cell_type": "code",
   "execution_count": 6,
   "id": "ff4ef6e0-bf30-431f-82d6-d134db456fd7",
   "metadata": {},
   "outputs": [],
   "source": [
    "import pandas as pd\n",
    "import numpy as np\n",
    "\n",
    "from tensorflow import keras\n",
    "from tensorflow.keras.models import Model\n",
    "from tensorflow.keras.layers import Input, Dense, Embedding, Flatten"
   ]
  },
  {
   "cell_type": "code",
   "execution_count": 2,
   "id": "fb48d5bb-1555-423b-bb39-86acaddadcd8",
   "metadata": {},
   "outputs": [
    {
     "data": {
      "text/html": [
       "<div>\n",
       "<style scoped>\n",
       "    .dataframe tbody tr th:only-of-type {\n",
       "        vertical-align: middle;\n",
       "    }\n",
       "\n",
       "    .dataframe tbody tr th {\n",
       "        vertical-align: top;\n",
       "    }\n",
       "\n",
       "    .dataframe thead th {\n",
       "        text-align: right;\n",
       "    }\n",
       "</style>\n",
       "<table border=\"1\" class=\"dataframe\">\n",
       "  <thead>\n",
       "    <tr style=\"text-align: right;\">\n",
       "      <th></th>\n",
       "      <th>season</th>\n",
       "      <th>team_1</th>\n",
       "      <th>team_2</th>\n",
       "      <th>home</th>\n",
       "      <th>score_diff</th>\n",
       "      <th>score_1</th>\n",
       "      <th>score_2</th>\n",
       "      <th>won</th>\n",
       "    </tr>\n",
       "  </thead>\n",
       "  <tbody>\n",
       "    <tr>\n",
       "      <th>0</th>\n",
       "      <td>1985</td>\n",
       "      <td>3745</td>\n",
       "      <td>6664</td>\n",
       "      <td>0</td>\n",
       "      <td>17</td>\n",
       "      <td>81</td>\n",
       "      <td>64</td>\n",
       "      <td>1</td>\n",
       "    </tr>\n",
       "    <tr>\n",
       "      <th>1</th>\n",
       "      <td>1985</td>\n",
       "      <td>126</td>\n",
       "      <td>7493</td>\n",
       "      <td>1</td>\n",
       "      <td>7</td>\n",
       "      <td>77</td>\n",
       "      <td>70</td>\n",
       "      <td>1</td>\n",
       "    </tr>\n",
       "    <tr>\n",
       "      <th>2</th>\n",
       "      <td>1985</td>\n",
       "      <td>288</td>\n",
       "      <td>3593</td>\n",
       "      <td>1</td>\n",
       "      <td>7</td>\n",
       "      <td>63</td>\n",
       "      <td>56</td>\n",
       "      <td>1</td>\n",
       "    </tr>\n",
       "    <tr>\n",
       "      <th>3</th>\n",
       "      <td>1985</td>\n",
       "      <td>1846</td>\n",
       "      <td>9881</td>\n",
       "      <td>1</td>\n",
       "      <td>16</td>\n",
       "      <td>70</td>\n",
       "      <td>54</td>\n",
       "      <td>1</td>\n",
       "    </tr>\n",
       "    <tr>\n",
       "      <th>4</th>\n",
       "      <td>1985</td>\n",
       "      <td>2675</td>\n",
       "      <td>10298</td>\n",
       "      <td>1</td>\n",
       "      <td>12</td>\n",
       "      <td>86</td>\n",
       "      <td>74</td>\n",
       "      <td>1</td>\n",
       "    </tr>\n",
       "  </tbody>\n",
       "</table>\n",
       "</div>"
      ],
      "text/plain": [
       "   season  team_1  team_2  home  score_diff  score_1  score_2  won\n",
       "0    1985    3745    6664     0          17       81       64    1\n",
       "1    1985     126    7493     1           7       77       70    1\n",
       "2    1985     288    3593     1           7       63       56    1\n",
       "3    1985    1846    9881     1          16       70       54    1\n",
       "4    1985    2675   10298     1          12       86       74    1"
      ]
     },
     "execution_count": 2,
     "metadata": {},
     "output_type": "execute_result"
    }
   ],
   "source": [
    "games_season = pd.read_csv('inputs/games_season.csv')\n",
    "games_tourney = pd.read_csv('inputs/games_tourney.csv')\n",
    "games_season.head()"
   ]
  },
  {
   "cell_type": "code",
   "execution_count": 3,
   "id": "aea6e360-5dc9-48af-99c6-21527a720d87",
   "metadata": {},
   "outputs": [
    {
     "data": {
      "text/plain": [
       "10888"
      ]
     },
     "execution_count": 3,
     "metadata": {},
     "output_type": "execute_result"
    }
   ],
   "source": [
    "#Count the number of teams.\n",
    "n_teams = np.unique(games_season[['team_1', 'team_2']]).shape[0]\n",
    "n_teams"
   ]
  },
  {
   "cell_type": "code",
   "execution_count": 4,
   "id": "bbcecaec-a21f-4839-a2c4-fb0da8ebfc75",
   "metadata": {},
   "outputs": [],
   "source": [
    "#Create an embedding layer.\n",
    "#The embedding layer maps each team ID to a single number representing the team's strngth.\n",
    "\n",
    "team_lookup = Embedding(input_dim = n_teams, output_dim = 1, \n",
    "                       input_length = 1, name = 'Team-Strength')\n"
   ]
  },
  {
   "cell_type": "markdown",
   "id": "e15ac86d-c31e-4963-bc41-7b157f662f55",
   "metadata": {},
   "source": [
    "### Define the team model."
   ]
  },
  {
   "cell_type": "code",
   "execution_count": 10,
   "id": "a53f1dcd-6281-4ec8-a183-0aebf8487278",
   "metadata": {},
   "outputs": [],
   "source": [
    "#Create an input layer from the team ID.\n",
    "teamid_in = Input(shape = (1, ))\n",
    "\n",
    "#Look for the input in the team strength embedding layer.\n",
    "strength_lookup = team_lookup(teamid_in)\n",
    "\n",
    "#Flatten the output.\n",
    "strength_lookup_flat = Flatten()(strength_lookup)\n",
    "\n",
    "#Combine the operations into a single, re-usable model.\n",
    "team_strength_model = Model(teamid_in, strength_lookup_flat, name = 'Team-Strength-Model')"
   ]
  },
  {
   "cell_type": "code",
   "execution_count": 12,
   "id": "9449f23b-390a-4247-ae47-fd53939681f6",
   "metadata": {},
   "outputs": [
    {
     "name": "stdout",
     "output_type": "stream",
     "text": [
      "Model: \"Team-Strength-Model\"\n",
      "_________________________________________________________________\n",
      " Layer (type)                Output Shape              Param #   \n",
      "=================================================================\n",
      " input_2 (InputLayer)        [(None, 1)]               0         \n",
      "                                                                 \n",
      " Team-Strength (Embedding)   (None, 1, 1)              10888     \n",
      "                                                                 \n",
      " flatten (Flatten)           (None, 1)                 0         \n",
      "                                                                 \n",
      "=================================================================\n",
      "Total params: 10,888\n",
      "Trainable params: 10,888\n",
      "Non-trainable params: 0\n",
      "_________________________________________________________________\n"
     ]
    }
   ],
   "source": [
    "team_strength_model.compile(loss = 'mae', \n",
    "                           optimizer = 'adam')\n",
    "\n",
    "team_strength_model.summary()"
   ]
  }
 ],
 "metadata": {
  "kernelspec": {
   "display_name": "Python 3 (ipykernel)",
   "language": "python",
   "name": "python3"
  },
  "language_info": {
   "codemirror_mode": {
    "name": "ipython",
    "version": 3
   },
   "file_extension": ".py",
   "mimetype": "text/x-python",
   "name": "python",
   "nbconvert_exporter": "python",
   "pygments_lexer": "ipython3",
   "version": "3.9.7"
  }
 },
 "nbformat": 4,
 "nbformat_minor": 5
}
